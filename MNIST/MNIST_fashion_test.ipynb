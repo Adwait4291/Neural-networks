{
 "cells": [
  {
   "cell_type": "code",
   "execution_count": 1,
   "id": "3a466c6c",
   "metadata": {},
   "outputs": [],
   "source": [
    "import numpy as np\n",
    "import pandas as pd\n",
    "import matplotlib.pyplot as plt\n",
    "import seaborn as sns\n",
    "\n",
    "import tensorflow as tf\n",
    "from tensorflow import keras\n",
    "from keras.models import Sequential\n",
    "from keras.layers import Dense, Input, Flatten\n",
    "\n",
    "# Load the MNIST Fashion dataset\n",
    "(X_train, y_train), (X_test, y_test) = keras.datasets.fashion_mnist.load_data()\n",
    "\n"
   ]
  },
  {
   "cell_type": "code",
   "execution_count": 2,
   "id": "5c2981c1",
   "metadata": {},
   "outputs": [],
   "source": [
    "# Define the class names\n",
    "fashion_labels = ['T-shirt/top', 'Trouser', 'Pullover', 'Dress', 'Coat', \n",
    "                  'Sandal', 'Shirt', 'Sneaker', 'Bag', 'Ankle boot']"
   ]
  },
  {
   "cell_type": "code",
   "execution_count": null,
   "id": "c5de0878",
   "metadata": {},
   "outputs": [],
   "source": [
    "fashion_labels[4]"
   ]
  },
  {
   "cell_type": "code",
   "execution_count": null,
   "id": "e32a2ccb",
   "metadata": {},
   "outputs": [],
   "source": []
  },
  {
   "cell_type": "code",
   "execution_count": null,
   "id": "292bdf1f-6321-40bf-938f-5aaab4c2ebf7",
   "metadata": {},
   "outputs": [],
   "source": [
    "print(X_train)"
   ]
  },
  {
   "cell_type": "code",
   "execution_count": null,
   "id": "adce9f54",
   "metadata": {
    "colab": {
     "base_uri": "https://localhost:8080/"
    },
    "id": "adce9f54",
    "outputId": "d672eb05-532c-498f-cb8b-66722834ee39"
   },
   "outputs": [],
   "source": [
    "X_train.shape"
   ]
  },
  {
   "cell_type": "code",
   "execution_count": null,
   "id": "4fab635e",
   "metadata": {},
   "outputs": [],
   "source": [
    "len(X_train)"
   ]
  },
  {
   "cell_type": "code",
   "execution_count": null,
   "id": "d0880827",
   "metadata": {},
   "outputs": [],
   "source": [
    "X_test.shape"
   ]
  },
  {
   "cell_type": "code",
   "execution_count": null,
   "id": "648a5337",
   "metadata": {},
   "outputs": [],
   "source": [
    "len(X_test)"
   ]
  },
  {
   "cell_type": "code",
   "execution_count": null,
   "id": "9e5c32c1",
   "metadata": {},
   "outputs": [],
   "source": [
    "X_test.shape"
   ]
  },
  {
   "cell_type": "code",
   "execution_count": null,
   "id": "b4e178c6-8566-488b-9fe2-5137eb0a0651",
   "metadata": {},
   "outputs": [],
   "source": [
    "X_train[29]"
   ]
  },
  {
   "cell_type": "code",
   "execution_count": null,
   "id": "ddedf449-d478-4066-8851-a0628724526d",
   "metadata": {},
   "outputs": [],
   "source": [
    "print(y_train[29])"
   ]
  },
  {
   "cell_type": "code",
   "execution_count": null,
   "id": "f1265dcc-0b39-4cf4-94ba-5ab45f36c8e9",
   "metadata": {},
   "outputs": [],
   "source": [
    "plt.imshow(X_train[100],cmap='gray');"
   ]
  },
  {
   "cell_type": "code",
   "execution_count": null,
   "id": "c16675f2",
   "metadata": {},
   "outputs": [],
   "source": [
    "y_train[100]"
   ]
  },
  {
   "cell_type": "code",
   "execution_count": null,
   "id": "8a3f4730",
   "metadata": {},
   "outputs": [],
   "source": [
    "fashion_labels[8]"
   ]
  },
  {
   "cell_type": "code",
   "execution_count": null,
   "id": "8271c66e-b680-4091-8262-2b1fe579abca",
   "metadata": {},
   "outputs": [],
   "source": [
    "len(X_test)"
   ]
  },
  {
   "cell_type": "code",
   "execution_count": null,
   "id": "bf51d843-3944-4b19-b62e-0b5ef92bd7cb",
   "metadata": {},
   "outputs": [],
   "source": [
    "len(y_test)"
   ]
  },
  {
   "cell_type": "code",
   "execution_count": null,
   "id": "1189b0f7",
   "metadata": {},
   "outputs": [],
   "source": [
    "X_train.shape"
   ]
  },
  {
   "cell_type": "code",
   "execution_count": null,
   "id": "2b2bcdd1",
   "metadata": {},
   "outputs": [],
   "source": [
    "X_train[45]"
   ]
  },
  {
   "cell_type": "code",
   "execution_count": null,
   "id": "2d3b5d37",
   "metadata": {},
   "outputs": [],
   "source": [
    "plt.imshow(X_train[45],cmap='gray');"
   ]
  },
  {
   "cell_type": "code",
   "execution_count": null,
   "id": "d3db9335",
   "metadata": {},
   "outputs": [],
   "source": [
    "y_train.shape"
   ]
  },
  {
   "cell_type": "code",
   "execution_count": null,
   "id": "6d556bf5",
   "metadata": {},
   "outputs": [],
   "source": [
    "y_train[45]"
   ]
  },
  {
   "cell_type": "code",
   "execution_count": null,
   "id": "0dfa1cef",
   "metadata": {},
   "outputs": [],
   "source": [
    "plt.imshow(X_train[223],cmap='gray');"
   ]
  },
  {
   "cell_type": "code",
   "execution_count": null,
   "id": "e73c9aae",
   "metadata": {},
   "outputs": [],
   "source": [
    "y_train[223]"
   ]
  },
  {
   "cell_type": "code",
   "execution_count": null,
   "id": "5dff3fe2",
   "metadata": {},
   "outputs": [],
   "source": []
  },
  {
   "cell_type": "code",
   "execution_count": null,
   "id": "26633b70",
   "metadata": {},
   "outputs": [],
   "source": [
    "plt.imshow(X_train[2223],cmap='gray');"
   ]
  },
  {
   "cell_type": "code",
   "execution_count": null,
   "id": "d295852c",
   "metadata": {},
   "outputs": [],
   "source": [
    "y_train[2223]"
   ]
  },
  {
   "cell_type": "code",
   "execution_count": null,
   "id": "df67e06f",
   "metadata": {
    "colab": {
     "base_uri": "https://localhost:8080/"
    },
    "id": "df67e06f",
    "outputId": "510d68d9-124e-4ba4-96a0-98cb0707e0fb"
   },
   "outputs": [],
   "source": [
    "print(len(X_train))\n",
    "print(len(X_test))"
   ]
  },
  {
   "cell_type": "code",
   "execution_count": null,
   "id": "b3736e05",
   "metadata": {
    "id": "b3736e05"
   },
   "outputs": [],
   "source": [
    "X_train.shape"
   ]
  },
  {
   "cell_type": "code",
   "execution_count": null,
   "id": "bfa78db2",
   "metadata": {},
   "outputs": [],
   "source": [
    "X_train[223].shape"
   ]
  },
  {
   "cell_type": "markdown",
   "id": "70e405e6-fb0e-4fc9-a03e-e1bbd2f679e8",
   "metadata": {},
   "source": [
    "## Data Exploration completes here"
   ]
  },
  {
   "cell_type": "markdown",
   "id": "14c73105",
   "metadata": {
    "id": "14c73105"
   },
   "source": [
    "## Reshape and Normalize the Data\n"
   ]
  },
  {
   "cell_type": "code",
   "execution_count": null,
   "id": "9b6c3d4c",
   "metadata": {
    "colab": {
     "base_uri": "https://localhost:8080/"
    },
    "id": "9b6c3d4c",
    "outputId": "10c7f9f6-7185-4bff-b693-c08f8ee259e2"
   },
   "outputs": [],
   "source": [
    "X_train.shape"
   ]
  },
  {
   "cell_type": "code",
   "execution_count": null,
   "id": "78a01490",
   "metadata": {
    "id": "78a01490"
   },
   "outputs": [],
   "source": [
    "X_train= X_train.reshape(60000,784)"
   ]
  },
  {
   "cell_type": "code",
   "execution_count": null,
   "id": "b7a1d3a7-bcae-4b60-bf3f-2373a73e729d",
   "metadata": {},
   "outputs": [],
   "source": [
    "X_train.shape"
   ]
  },
  {
   "cell_type": "code",
   "execution_count": null,
   "id": "d1a95846",
   "metadata": {},
   "outputs": [],
   "source": [
    "X_train[223].shape"
   ]
  },
  {
   "cell_type": "code",
   "execution_count": null,
   "id": "50cd059d",
   "metadata": {},
   "outputs": [],
   "source": [
    "X_test[32]"
   ]
  },
  {
   "cell_type": "code",
   "execution_count": null,
   "id": "e27a7130",
   "metadata": {
    "id": "e27a7130"
   },
   "outputs": [],
   "source": [
    "X_test= X_test.reshape(10000,784)"
   ]
  },
  {
   "cell_type": "code",
   "execution_count": null,
   "id": "c6beb5e8",
   "metadata": {},
   "outputs": [],
   "source": [
    "X_train[223]"
   ]
  },
  {
   "cell_type": "code",
   "execution_count": null,
   "id": "05f1e0a4",
   "metadata": {},
   "outputs": [],
   "source": [
    "X_train[223]"
   ]
  },
  {
   "cell_type": "code",
   "execution_count": null,
   "id": "ddd83287",
   "metadata": {},
   "outputs": [],
   "source": [
    "X_train= (X_train/255.0)\n",
    "X_test=  (X_test/255.0)"
   ]
  },
  {
   "cell_type": "code",
   "execution_count": null,
   "id": "f7dc4b1b",
   "metadata": {
    "id": "f7dc4b1b"
   },
   "outputs": [],
   "source": [
    "X_train[223]"
   ]
  },
  {
   "cell_type": "code",
   "execution_count": null,
   "id": "87472a9b",
   "metadata": {
    "colab": {
     "base_uri": "https://localhost:8080/"
    },
    "id": "87472a9b",
    "outputId": "6ad3231a-57ad-485c-e322-7ac2609fc9c0"
   },
   "outputs": [],
   "source": [
    "X_train[32]"
   ]
  },
  {
   "cell_type": "markdown",
   "id": "94028bb4",
   "metadata": {
    "id": "94028bb4"
   },
   "source": [
    "## One hot Encode the Target variable"
   ]
  },
  {
   "cell_type": "code",
   "execution_count": null,
   "id": "7f1b7803",
   "metadata": {
    "id": "7f1b7803"
   },
   "outputs": [],
   "source": [
    "from tensorflow.keras.utils import to_categorical"
   ]
  },
  {
   "cell_type": "code",
   "execution_count": null,
   "id": "e301ff73",
   "metadata": {
    "colab": {
     "base_uri": "https://localhost:8080/"
    },
    "id": "e301ff73",
    "outputId": "71d9ea7a-e3ea-4b59-c1df-f695035cddc2"
   },
   "outputs": [],
   "source": [
    "print(y_train[131])"
   ]
  },
  {
   "cell_type": "code",
   "execution_count": null,
   "id": "f1e1e4b4",
   "metadata": {
    "colab": {
     "base_uri": "https://localhost:8080/"
    },
    "id": "f1e1e4b4",
    "outputId": "93373267-d372-4666-900d-4d33f717cb03"
   },
   "outputs": [],
   "source": [
    "print(y_train[100])\n"
   ]
  },
  {
   "cell_type": "code",
   "execution_count": null,
   "id": "4503bd8a",
   "metadata": {
    "colab": {
     "base_uri": "https://localhost:8080/"
    },
    "id": "4503bd8a",
    "outputId": "004aa12b-e59d-4265-e897-f96d340d4871"
   },
   "outputs": [],
   "source": [
    "print(y_train[221])"
   ]
  },
  {
   "cell_type": "code",
   "execution_count": null,
   "id": "7085b275-eea4-4036-a582-1dda2fa94ecc",
   "metadata": {},
   "outputs": [],
   "source": [
    "print(y_test[25])"
   ]
  },
  {
   "cell_type": "code",
   "execution_count": null,
   "id": "59ceb2da",
   "metadata": {
    "colab": {
     "base_uri": "https://localhost:8080/"
    },
    "id": "59ceb2da",
    "outputId": "70f77ac4-54d3-46e7-b914-ce6e5f396b82"
   },
   "outputs": [],
   "source": [
    "np.unique(y_train)"
   ]
  },
  {
   "cell_type": "code",
   "execution_count": null,
   "id": "3c7d1be9",
   "metadata": {
    "colab": {
     "base_uri": "https://localhost:8080/"
    },
    "id": "3c7d1be9",
    "outputId": "c44c70d3-fd75-42fe-9ed3-f74d033b3a9d"
   },
   "outputs": [],
   "source": [
    "len(np.unique(y_train))"
   ]
  },
  {
   "cell_type": "code",
   "execution_count": null,
   "id": "7c8c64dc",
   "metadata": {
    "id": "7c8c64dc"
   },
   "outputs": [],
   "source": [
    "number_of_classes= len(np.unique(y_train))"
   ]
  },
  {
   "cell_type": "code",
   "execution_count": null,
   "id": "ef4ee202",
   "metadata": {
    "colab": {
     "base_uri": "https://localhost:8080/"
    },
    "id": "ef4ee202",
    "outputId": "d14ac33b-e8a5-41b3-a949-48d7eef5558f"
   },
   "outputs": [],
   "source": [
    "number_of_classes"
   ]
  },
  {
   "cell_type": "code",
   "execution_count": null,
   "id": "a86b6929-9007-4643-a4fe-9fca0f8abb17",
   "metadata": {},
   "outputs": [],
   "source": [
    "y_train = to_categorical(y_train, number_of_classes)"
   ]
  },
  {
   "cell_type": "code",
   "execution_count": null,
   "id": "c6856301",
   "metadata": {},
   "outputs": [],
   "source": [
    "y_test= to_categorical(y_test,number_of_classes)"
   ]
  },
  {
   "cell_type": "code",
   "execution_count": null,
   "id": "924763bf",
   "metadata": {},
   "outputs": [],
   "source": [
    "y_train[131]"
   ]
  },
  {
   "cell_type": "code",
   "execution_count": null,
   "id": "ebcfa643",
   "metadata": {},
   "outputs": [],
   "source": [
    "y_train[100]"
   ]
  },
  {
   "cell_type": "code",
   "execution_count": null,
   "id": "3eaccc8e",
   "metadata": {
    "colab": {
     "base_uri": "https://localhost:8080/"
    },
    "id": "3eaccc8e",
    "outputId": "fa27c142-6a0a-497b-a87c-e3534faa80e6"
   },
   "outputs": [],
   "source": [
    "y_train[221]"
   ]
  },
  {
   "cell_type": "code",
   "execution_count": null,
   "id": "126cce53-5433-4b12-ba4c-42315fe150e0",
   "metadata": {},
   "outputs": [],
   "source": [
    "y_test[25]"
   ]
  },
  {
   "cell_type": "code",
   "execution_count": null,
   "id": "e7822baf",
   "metadata": {
    "id": "e7822baf"
   },
   "outputs": [],
   "source": [
    "X_train.shape[1]"
   ]
  },
  {
   "cell_type": "markdown",
   "id": "d1a40136",
   "metadata": {
    "id": "d1a40136"
   },
   "source": [
    "## Build the Network"
   ]
  },
  {
   "cell_type": "code",
   "execution_count": null,
   "id": "be5d5eb8",
   "metadata": {
    "id": "be5d5eb8"
   },
   "outputs": [],
   "source": [
    "from tensorflow.keras.models import Sequential\n",
    "from tensorflow.keras.layers import Dense"
   ]
  },
  {
   "cell_type": "code",
   "execution_count": null,
   "id": "d30b7527",
   "metadata": {
    "id": "d30b7527"
   },
   "outputs": [],
   "source": [
    "model= Sequential()"
   ]
  },
  {
   "cell_type": "code",
   "execution_count": null,
   "id": "28bc3adf-a7d3-4ec9-8617-74c95ec2c46e",
   "metadata": {},
   "outputs": [],
   "source": [
    "model.summary()"
   ]
  },
  {
   "cell_type": "code",
   "execution_count": null,
   "id": "fa5afbea",
   "metadata": {},
   "outputs": [],
   "source": [
    "model.add(Dense(units=256,activation='relu',input_dim=784))"
   ]
  },
  {
   "cell_type": "code",
   "execution_count": null,
   "id": "d10f1b41-f77f-4b48-ba9c-ea8a6b45ee18",
   "metadata": {},
   "outputs": [],
   "source": [
    "model.add(Dense(units=256,activation='relu'))"
   ]
  },
  {
   "cell_type": "code",
   "execution_count": null,
   "id": "de2e181c",
   "metadata": {},
   "outputs": [],
   "source": [
    "model.summary()"
   ]
  },
  {
   "cell_type": "code",
   "execution_count": null,
   "id": "01348aac",
   "metadata": {},
   "outputs": [],
   "source": [
    "model.add(Dense(units=256,activation='relu'))\n",
    "model.add(Dense(units=128,activation='relu'))\n",
    "model.add(Dense(units=512,activation='relu'))\n"
   ]
  },
  {
   "cell_type": "code",
   "execution_count": null,
   "id": "fbb59b96-7bf0-4e7e-b9e9-ab02c0d35655",
   "metadata": {},
   "outputs": [],
   "source": [
    "model.summary()"
   ]
  },
  {
   "cell_type": "code",
   "execution_count": null,
   "id": "dc94b23c",
   "metadata": {},
   "outputs": [],
   "source": [
    "model.add(Dense(units=10,activation='softmax'))"
   ]
  },
  {
   "cell_type": "code",
   "execution_count": null,
   "id": "1ba33227",
   "metadata": {},
   "outputs": [],
   "source": [
    "model.summary()"
   ]
  },
  {
   "cell_type": "code",
   "execution_count": null,
   "id": "936f9712",
   "metadata": {},
   "outputs": [],
   "source": [
    "model.compile(optimizer='adam',loss='categorical_crossentropy',metrics=(['accuracy']))"
   ]
  },
  {
   "cell_type": "markdown",
   "id": "b0318b7b",
   "metadata": {
    "id": "b0318b7b"
   },
   "source": [
    "# From Here the homework starts"
   ]
  },
  {
   "cell_type": "code",
   "execution_count": null,
   "id": "431e9029",
   "metadata": {
    "id": "431e9029"
   },
   "outputs": [],
   "source": [
    " #model.fit(X_train,y_train,validation_split=0.15,epochs=50)"
   ]
  },
  {
   "cell_type": "code",
   "execution_count": null,
   "id": "57dcd396",
   "metadata": {
    "colab": {
     "base_uri": "https://localhost:8080/"
    },
    "id": "57dcd396",
    "outputId": "db67822e-ed68-492f-b1bd-e3312b86651c"
   },
   "outputs": [],
   "source": [
    "history= model.fit(X_train,y_train,batch_size=32,epochs=50)"
   ]
  },
  {
   "cell_type": "code",
   "execution_count": null,
   "id": "86c45701",
   "metadata": {
    "id": "86c45701"
   },
   "outputs": [],
   "source": [
    "history.history\n"
   ]
  },
  {
   "cell_type": "code",
   "execution_count": null,
   "id": "6856fe78-aac0-48d5-a62d-6ff03eb11d79",
   "metadata": {},
   "outputs": [],
   "source": []
  },
  {
   "cell_type": "code",
   "execution_count": null,
   "id": "431fd7ac",
   "metadata": {
    "id": "431fd7ac"
   },
   "outputs": [],
   "source": [
    "df= pd.DataFrame(history.history)"
   ]
  },
  {
   "cell_type": "code",
   "execution_count": null,
   "id": "a629655d",
   "metadata": {
    "id": "a629655d"
   },
   "outputs": [],
   "source": [
    "df.head(10)"
   ]
  },
  {
   "cell_type": "code",
   "execution_count": null,
   "id": "81653da1-6d0c-471c-ac26-46973a087c44",
   "metadata": {},
   "outputs": [],
   "source": [
    "plt.plot(df.loss);"
   ]
  },
  {
   "cell_type": "code",
   "execution_count": null,
   "id": "fa03d661-02e1-4726-b36b-e3f790afaee0",
   "metadata": {},
   "outputs": [],
   "source": [
    "plt.plot(df.accuracy);"
   ]
  },
  {
   "cell_type": "code",
   "execution_count": null,
   "id": "1e0bd27f",
   "metadata": {
    "id": "1e0bd27f"
   },
   "outputs": [],
   "source": [
    "plt.plot(df.loss,label='training loss')\n",
    "#plt.plot(df.val_loss,label='val loss')\n",
    "plt.legend();"
   ]
  },
  {
   "cell_type": "code",
   "execution_count": null,
   "id": "3322e381",
   "metadata": {
    "id": "3322e381"
   },
   "outputs": [],
   "source": [
    "plt.plot(df.accuracy,label='Training acc')\n",
    "#plt.plot(df.val_accuracy,label='Val acc')\n",
    "plt.legend();\n",
    "\n"
   ]
  },
  {
   "cell_type": "markdown",
   "id": "107b1ad3",
   "metadata": {
    "id": "107b1ad3"
   },
   "source": [
    "## Homework"
   ]
  },
  {
   "cell_type": "code",
   "execution_count": null,
   "id": "655f856b",
   "metadata": {
    "id": "655f856b"
   },
   "outputs": [],
   "source": [
    "# Why the error : \n",
    "model.evaluate(X_test,y_test)"
   ]
  },
  {
   "cell_type": "code",
   "execution_count": null,
   "id": "c3c531ab",
   "metadata": {
    "id": "c3c531ab"
   },
   "outputs": [],
   "source": [
    "y_test[1].shape"
   ]
  },
  {
   "cell_type": "code",
   "execution_count": null,
   "id": "51d47b3b",
   "metadata": {},
   "outputs": [],
   "source": [
    "y_test[[1]].shape"
   ]
  },
  {
   "cell_type": "code",
   "execution_count": null,
   "id": "df8bc783",
   "metadata": {},
   "outputs": [],
   "source": [
    "model.predict(X_test[[1]])"
   ]
  },
  {
   "cell_type": "code",
   "execution_count": null,
   "id": "d9bde3fe",
   "metadata": {
    "id": "d9bde3fe"
   },
   "outputs": [],
   "source": [
    "X_train.shape"
   ]
  },
  {
   "cell_type": "code",
   "execution_count": null,
   "id": "086665e3",
   "metadata": {
    "id": "086665e3"
   },
   "outputs": [],
   "source": [
    "X_train[2].shape"
   ]
  },
  {
   "cell_type": "code",
   "execution_count": null,
   "id": "f9af7d6a",
   "metadata": {
    "id": "f9af7d6a"
   },
   "outputs": [],
   "source": [
    "(X_train[2:15]).shape"
   ]
  },
  {
   "cell_type": "code",
   "execution_count": null,
   "id": "1eab5e0d-8f95-46c2-9c4f-352d5fac42f7",
   "metadata": {},
   "outputs": [],
   "source": [
    "model.predict(X_train[21])"
   ]
  },
  {
   "cell_type": "code",
   "execution_count": null,
   "id": "3d896ad9",
   "metadata": {},
   "outputs": [],
   "source": [
    "model.predict(X_train[21])"
   ]
  },
  {
   "cell_type": "code",
   "execution_count": null,
   "id": "13b90fa0",
   "metadata": {
    "id": "13b90fa0"
   },
   "outputs": [],
   "source": [
    "model.predict(X_test[[2]])"
   ]
  },
  {
   "cell_type": "code",
   "execution_count": null,
   "id": "8c3e3a3e",
   "metadata": {
    "id": "8c3e3a3e"
   },
   "outputs": [],
   "source": [
    "np.argmax(model.predict(X_train[[2]]))"
   ]
  },
  {
   "cell_type": "code",
   "execution_count": null,
   "id": "ae2e2eb3",
   "metadata": {
    "id": "ae2e2eb3"
   },
   "outputs": [],
   "source": [
    "np.sum(model.predict(X_train[[2]]))"
   ]
  },
  {
   "cell_type": "code",
   "execution_count": null,
   "id": "79956641",
   "metadata": {
    "id": "79956641"
   },
   "outputs": [],
   "source": [
    "(X_train[2])"
   ]
  },
  {
   "cell_type": "code",
   "execution_count": null,
   "id": "bb84bfda",
   "metadata": {
    "id": "bb84bfda"
   },
   "outputs": [],
   "source": [
    "(X_train[[2]])"
   ]
  },
  {
   "cell_type": "code",
   "execution_count": null,
   "id": "382afd2e",
   "metadata": {
    "id": "382afd2e"
   },
   "outputs": [],
   "source": [
    "model.predict(X_test[[2]])"
   ]
  },
  {
   "cell_type": "code",
   "execution_count": null,
   "id": "c93ebbf9",
   "metadata": {},
   "outputs": [],
   "source": [
    "X_test[2:20].shape"
   ]
  },
  {
   "cell_type": "code",
   "execution_count": null,
   "id": "ac543c08",
   "metadata": {
    "id": "ac543c08"
   },
   "outputs": [],
   "source": [
    "model.predict(X_test[2:20])"
   ]
  },
  {
   "cell_type": "code",
   "execution_count": null,
   "id": "6796013e",
   "metadata": {
    "id": "6796013e"
   },
   "outputs": [],
   "source": [
    "np.argmax(X_test[[3]])"
   ]
  },
  {
   "cell_type": "code",
   "execution_count": null,
   "id": "2c2d397c",
   "metadata": {
    "id": "2c2d397c"
   },
   "outputs": [],
   "source": [
    "model.predict(X_test[[3]])"
   ]
  },
  {
   "cell_type": "code",
   "execution_count": null,
   "id": "86d971ec",
   "metadata": {
    "id": "86d971ec"
   },
   "outputs": [],
   "source": [
    "np.argmax(model.predict(X_test[[3]]))"
   ]
  },
  {
   "cell_type": "code",
   "execution_count": null,
   "id": "51802e72",
   "metadata": {
    "id": "51802e72"
   },
   "outputs": [],
   "source": [
    "X_test[[27]].shape"
   ]
  },
  {
   "cell_type": "code",
   "execution_count": null,
   "id": "63469b13",
   "metadata": {},
   "outputs": [],
   "source": [
    "y_test[27]"
   ]
  },
  {
   "cell_type": "code",
   "execution_count": null,
   "id": "dac1e05c",
   "metadata": {
    "id": "dac1e05c"
   },
   "outputs": [],
   "source": [
    "model.predict(X_test[[27]])"
   ]
  },
  {
   "cell_type": "code",
   "execution_count": null,
   "id": "99444f3a",
   "metadata": {},
   "outputs": [],
   "source": [
    "np.argmax(model.predict(X_test[[27]]))"
   ]
  },
  {
   "cell_type": "code",
   "execution_count": null,
   "id": "01a7a872",
   "metadata": {
    "id": "01a7a872"
   },
   "outputs": [],
   "source": [
    "np.argmax(model.predict(X_test[[27]]))"
   ]
  },
  {
   "cell_type": "code",
   "execution_count": null,
   "id": "4cfefce1",
   "metadata": {
    "id": "4cfefce1"
   },
   "outputs": [],
   "source": [
    "y_test[27]"
   ]
  },
  {
   "cell_type": "code",
   "execution_count": null,
   "id": "082e0481",
   "metadata": {
    "id": "082e0481"
   },
   "outputs": [],
   "source": [
    "X_test.shape"
   ]
  },
  {
   "cell_type": "code",
   "execution_count": null,
   "id": "6d5cc44d",
   "metadata": {
    "id": "6d5cc44d"
   },
   "outputs": [],
   "source": [
    "X_test[[27]].shape"
   ]
  },
  {
   "cell_type": "code",
   "execution_count": null,
   "id": "4bb14528",
   "metadata": {
    "id": "4bb14528"
   },
   "outputs": [],
   "source": [
    "X_test.shape"
   ]
  },
  {
   "cell_type": "code",
   "execution_count": null,
   "id": "208668e5",
   "metadata": {
    "id": "208668e5"
   },
   "outputs": [],
   "source": [
    "model.predict(X_test[34])"
   ]
  },
  {
   "cell_type": "code",
   "execution_count": null,
   "id": "0eedc9e3",
   "metadata": {
    "id": "0eedc9e3"
   },
   "outputs": [],
   "source": [
    "X_test.shape"
   ]
  },
  {
   "cell_type": "code",
   "execution_count": null,
   "id": "fd1304b4",
   "metadata": {
    "id": "fd1304b4"
   },
   "outputs": [],
   "source": [
    "X_test[7].shape"
   ]
  },
  {
   "cell_type": "markdown",
   "id": "b0cc3271",
   "metadata": {
    "id": "b0cc3271"
   },
   "source": [
    "Axis is added for batch_size, here batch size is 1"
   ]
  },
  {
   "cell_type": "code",
   "execution_count": null,
   "id": "b43766ad",
   "metadata": {
    "id": "b43766ad"
   },
   "outputs": [],
   "source": [
    "(X_test[27][np.newaxis]).shape"
   ]
  },
  {
   "cell_type": "code",
   "execution_count": null,
   "id": "5f55ec78",
   "metadata": {
    "id": "5f55ec78"
   },
   "outputs": [],
   "source": [
    "model.predict(X_test[27][np.newaxis])"
   ]
  },
  {
   "cell_type": "code",
   "execution_count": null,
   "id": "02ccc118",
   "metadata": {
    "id": "02ccc118"
   },
   "outputs": [],
   "source": [
    "np.argmax(model.predict(X_test[27][np.newaxis]))"
   ]
  },
  {
   "cell_type": "code",
   "execution_count": null,
   "id": "8e4b14a5",
   "metadata": {
    "id": "8e4b14a5"
   },
   "outputs": [],
   "source": [
    "y_test[27]"
   ]
  },
  {
   "cell_type": "code",
   "execution_count": null,
   "id": "8181bb8f",
   "metadata": {
    "id": "8181bb8f"
   },
   "outputs": [],
   "source": [
    "(X_test[27][np.newaxis]).shape"
   ]
  },
  {
   "cell_type": "code",
   "execution_count": null,
   "id": "64414d71",
   "metadata": {
    "id": "64414d71"
   },
   "outputs": [],
   "source": [
    "X_test[[27]].shape"
   ]
  },
  {
   "cell_type": "code",
   "execution_count": null,
   "id": "a71add7a",
   "metadata": {
    "id": "a71add7a"
   },
   "outputs": [],
   "source": []
  },
  {
   "cell_type": "code",
   "execution_count": null,
   "id": "ee9ae793",
   "metadata": {
    "id": "ee9ae793"
   },
   "outputs": [],
   "source": []
  },
  {
   "cell_type": "code",
   "execution_count": null,
   "id": "1e7bc222",
   "metadata": {
    "id": "1e7bc222"
   },
   "outputs": [],
   "source": []
  },
  {
   "cell_type": "code",
   "execution_count": null,
   "id": "fe83f21f",
   "metadata": {
    "id": "fe83f21f"
   },
   "outputs": [],
   "source": [
    "np.argmax(model.predict(X_test[7][np.newaxis]))"
   ]
  },
  {
   "cell_type": "code",
   "execution_count": null,
   "id": "ec26be7b",
   "metadata": {
    "id": "ec26be7b"
   },
   "outputs": [],
   "source": [
    "y_test[7]"
   ]
  },
  {
   "cell_type": "code",
   "execution_count": null,
   "id": "3e1eafa7",
   "metadata": {
    "id": "3e1eafa7"
   },
   "outputs": [],
   "source": []
  },
  {
   "cell_type": "code",
   "execution_count": null,
   "id": "b3912b78",
   "metadata": {
    "id": "b3912b78"
   },
   "outputs": [],
   "source": []
  }
 ],
 "metadata": {
  "colab": {
   "provenance": []
  },
  "kernelspec": {
   "display_name": "base",
   "language": "python",
   "name": "python3"
  },
  "language_info": {
   "codemirror_mode": {
    "name": "ipython",
    "version": 3
   },
   "file_extension": ".py",
   "mimetype": "text/x-python",
   "name": "python",
   "nbconvert_exporter": "python",
   "pygments_lexer": "ipython3",
   "version": "3.12.7"
  }
 },
 "nbformat": 4,
 "nbformat_minor": 5
}
