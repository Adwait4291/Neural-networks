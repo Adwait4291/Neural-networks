{
 "cells": [
  {
   "cell_type": "code",
   "execution_count": 1,
   "metadata": {},
   "outputs": [],
   "source": [
    "import numpy as np\n",
    "import pandas as pd\n",
    "import matplotlib.pyplot as plt\n",
    "import seaborn as sns\n",
    "# sns.set()"
   ]
  },
  {
   "cell_type": "code",
   "execution_count": 2,
   "metadata": {},
   "outputs": [],
   "source": [
    "import tensorflow as tf\n",
    "from tensorflow import keras\n",
    "from keras.models import Sequential\n",
    "from keras.layers import Dense , Input, Flatten"
   ]
  },
  {
   "cell_type": "code",
   "execution_count": 3,
   "metadata": {},
   "outputs": [],
   "source": [
    "(X_train,y_train),(X_test,y_test)= keras.datasets.mnist.load_data()"
   ]
  },
  {
   "cell_type": "code",
   "execution_count": 5,
   "metadata": {},
   "outputs": [],
   "source": [
    "# Normalize the Data\n",
    "X_train,X_test = X_train/255.0, X_test/255.0\n"
   ]
  },
  {
   "cell_type": "code",
   "execution_count": 9,
   "metadata": {},
   "outputs": [],
   "source": [
    "def my_ann(): \n",
    "        # pass all the layers as list inside the Sequential layer\n",
    "        model= Sequential([\n",
    "        Input(shape=(28,28)),\n",
    "        Flatten(),\n",
    "        Dense(units=512,activation='relu'),\n",
    "        Dense(units=512,activation='relu'),\n",
    "        Dense(units=512,activation='relu'),\n",
    "        Dense(units=512,activation='relu'),\n",
    "        Dense(units=10,activation='softmax')\n",
    "        ])\n",
    "        model.compile(optimizer='adam',loss='sparse_categorical_crossentropy',metrics=['accuracy'])\n",
    "        return model\n"
   ]
  },
  {
   "cell_type": "code",
   "execution_count": 11,
   "metadata": {},
   "outputs": [],
   "source": [
    "mnist= my_ann()"
   ]
  },
  {
   "cell_type": "code",
   "execution_count": 13,
   "metadata": {},
   "outputs": [
    {
     "name": "stdout",
     "output_type": "stream",
     "text": [
      "Epoch 1/1000\n",
      "\u001b[1m48/48\u001b[0m \u001b[32m━━━━━━━━━━━━━━━━━━━━\u001b[0m\u001b[37m\u001b[0m \u001b[1m2s\u001b[0m 27ms/step - accuracy: 0.7274 - loss: 0.9336 - val_accuracy: 0.9495 - val_loss: 0.1731\n",
      "Epoch 2/1000\n",
      "\u001b[1m48/48\u001b[0m \u001b[32m━━━━━━━━━━━━━━━━━━━━\u001b[0m\u001b[37m\u001b[0m \u001b[1m1s\u001b[0m 29ms/step - accuracy: 0.9531 - loss: 0.1559 - val_accuracy: 0.9637 - val_loss: 0.1260\n",
      "Epoch 3/1000\n",
      "\u001b[1m48/48\u001b[0m \u001b[32m━━━━━━━━━━━━━━━━━━━━\u001b[0m\u001b[37m\u001b[0m \u001b[1m1s\u001b[0m 27ms/step - accuracy: 0.9708 - loss: 0.0992 - val_accuracy: 0.9703 - val_loss: 0.0973\n",
      "Epoch 4/1000\n",
      "\u001b[1m48/48\u001b[0m \u001b[32m━━━━━━━━━━━━━━━━━━━━\u001b[0m\u001b[37m\u001b[0m \u001b[1m1s\u001b[0m 28ms/step - accuracy: 0.9815 - loss: 0.0620 - val_accuracy: 0.9714 - val_loss: 0.0935\n",
      "Epoch 5/1000\n",
      "\u001b[1m48/48\u001b[0m \u001b[32m━━━━━━━━━━━━━━━━━━━━\u001b[0m\u001b[37m\u001b[0m \u001b[1m1s\u001b[0m 30ms/step - accuracy: 0.9877 - loss: 0.0413 - val_accuracy: 0.9728 - val_loss: 0.0863\n",
      "Epoch 6/1000\n",
      "\u001b[1m48/48\u001b[0m \u001b[32m━━━━━━━━━━━━━━━━━━━━\u001b[0m\u001b[37m\u001b[0m \u001b[1m1s\u001b[0m 28ms/step - accuracy: 0.9924 - loss: 0.0260 - val_accuracy: 0.9734 - val_loss: 0.0999\n",
      "Epoch 7/1000\n",
      "\u001b[1m48/48\u001b[0m \u001b[32m━━━━━━━━━━━━━━━━━━━━\u001b[0m\u001b[37m\u001b[0m \u001b[1m1s\u001b[0m 28ms/step - accuracy: 0.9946 - loss: 0.0189 - val_accuracy: 0.9761 - val_loss: 0.0882\n"
     ]
    }
   ],
   "source": [
    "history=mnist.fit(X_train,y_train,validation_split=0.20,batch_size=1000,epochs=1000,\\\n",
    "                    callbacks= keras.callbacks.EarlyStopping(\n",
    "                                                              monitor= 'accuracy',\n",
    "                                                              min_delta= 0.02,\n",
    "                                                              patience= 3, mode= 'auto'))"
   ]
  },
  {
   "cell_type": "markdown",
   "metadata": {},
   "source": [
    "# Model Evaluation and Prediction"
   ]
  },
  {
   "cell_type": "code",
   "execution_count": 21,
   "metadata": {},
   "outputs": [
    {
     "data": {
      "text/html": [
       "<div>\n",
       "<style scoped>\n",
       "    .dataframe tbody tr th:only-of-type {\n",
       "        vertical-align: middle;\n",
       "    }\n",
       "\n",
       "    .dataframe tbody tr th {\n",
       "        vertical-align: top;\n",
       "    }\n",
       "\n",
       "    .dataframe thead th {\n",
       "        text-align: right;\n",
       "    }\n",
       "</style>\n",
       "<table border=\"1\" class=\"dataframe\">\n",
       "  <thead>\n",
       "    <tr style=\"text-align: right;\">\n",
       "      <th></th>\n",
       "      <th>accuracy</th>\n",
       "      <th>loss</th>\n",
       "      <th>val_accuracy</th>\n",
       "      <th>val_loss</th>\n",
       "    </tr>\n",
       "  </thead>\n",
       "  <tbody>\n",
       "    <tr>\n",
       "      <th>0</th>\n",
       "      <td>0.854646</td>\n",
       "      <td>0.507151</td>\n",
       "      <td>0.949500</td>\n",
       "      <td>0.173060</td>\n",
       "    </tr>\n",
       "    <tr>\n",
       "      <th>1</th>\n",
       "      <td>0.957000</td>\n",
       "      <td>0.142870</td>\n",
       "      <td>0.963667</td>\n",
       "      <td>0.126043</td>\n",
       "    </tr>\n",
       "    <tr>\n",
       "      <th>2</th>\n",
       "      <td>0.971708</td>\n",
       "      <td>0.093974</td>\n",
       "      <td>0.970250</td>\n",
       "      <td>0.097317</td>\n",
       "    </tr>\n",
       "    <tr>\n",
       "      <th>3</th>\n",
       "      <td>0.981208</td>\n",
       "      <td>0.062874</td>\n",
       "      <td>0.971417</td>\n",
       "      <td>0.093498</td>\n",
       "    </tr>\n",
       "    <tr>\n",
       "      <th>4</th>\n",
       "      <td>0.986896</td>\n",
       "      <td>0.042414</td>\n",
       "      <td>0.972750</td>\n",
       "      <td>0.086311</td>\n",
       "    </tr>\n",
       "    <tr>\n",
       "      <th>5</th>\n",
       "      <td>0.991854</td>\n",
       "      <td>0.027465</td>\n",
       "      <td>0.973417</td>\n",
       "      <td>0.099947</td>\n",
       "    </tr>\n",
       "    <tr>\n",
       "      <th>6</th>\n",
       "      <td>0.994438</td>\n",
       "      <td>0.018122</td>\n",
       "      <td>0.976083</td>\n",
       "      <td>0.088155</td>\n",
       "    </tr>\n",
       "  </tbody>\n",
       "</table>\n",
       "</div>"
      ],
      "text/plain": [
       "   accuracy      loss  val_accuracy  val_loss\n",
       "0  0.854646  0.507151      0.949500  0.173060\n",
       "1  0.957000  0.142870      0.963667  0.126043\n",
       "2  0.971708  0.093974      0.970250  0.097317\n",
       "3  0.981208  0.062874      0.971417  0.093498\n",
       "4  0.986896  0.042414      0.972750  0.086311\n",
       "5  0.991854  0.027465      0.973417  0.099947\n",
       "6  0.994438  0.018122      0.976083  0.088155"
      ]
     },
     "execution_count": 21,
     "metadata": {},
     "output_type": "execute_result"
    }
   ],
   "source": [
    "df= pd.DataFrame(history.history)\n",
    "df"
   ]
  },
  {
   "cell_type": "code",
   "execution_count": null,
   "metadata": {},
   "outputs": [],
   "source": []
  }
 ],
 "metadata": {
  "kernelspec": {
   "display_name": "Python 3 (ipykernel)",
   "language": "python",
   "name": "python3"
  },
  "language_info": {
   "codemirror_mode": {
    "name": "ipython",
    "version": 3
   },
   "file_extension": ".py",
   "mimetype": "text/x-python",
   "name": "python",
   "nbconvert_exporter": "python",
   "pygments_lexer": "ipython3",
   "version": "3.12.4"
  }
 },
 "nbformat": 4,
 "nbformat_minor": 4
}
